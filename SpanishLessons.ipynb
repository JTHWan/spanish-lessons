{
  "nbformat": 4,
  "nbformat_minor": 0,
  "metadata": {
    "colab": {
      "name": "SpanishLessons.ipynb",
      "version": "0.3.2",
      "provenance": [],
      "collapsed_sections": []
    },
    "kernelspec": {
      "name": "python2",
      "display_name": "Python 2"
    }
  },
  "cells": [
    {
      "metadata": {
        "id": "rcQ0fWFQzwHg",
        "colab_type": "code",
        "colab": {}
      },
      "cell_type": "code",
      "source": [
        "lessons = ('basic vocab', 'gender of words', 'demonstrative', 'word order agreement',\n",
        "           'present tense & irregulars/stem changers', 'ser vs estar',\n",
        "           'posessive pronouns', 'reflexive verbs', 'verbs like gustar',\n",
        "           'gerund & progressive', 'adverbs', 'superlatives', 'preterite', 'imperfect',\n",
        "           'hacer/past participle', 'conditional & irregulars', 'passive voice',\n",
        "           'impersonal se', 'commands', 'present perfect', 'subjunctive')\n",
        "           \n",
        "vocabulary = ('school work', 'greetings & personal info', 'descriptions', 'numbers', 'family',\n",
        "              'health', 'class subjects', 'hobbies', 'routines', 'navigation',\n",
        "              'art', 'science & technology', 'medical', 'society', 'government',\n",
        "              'nature', 'activities')\n",
        "              \n",
        "class vocabulary_Display():\n",
        "  #Displays a list of spanish words and their english translation\n",
        "  def __init__(self, subject, contents):\n",
        "    self.sub = subject\n",
        "    self.con = contents\n",
        "    #subject refers to an entry made in the vocabulary tuple\n",
        "    \n",
        "  def print_Subject(self):\n",
        "    print ('This unit\\'s topic is: ' + self.sub)\n",
        "  \n",
        "  def display_Contents(self):\n",
        "    for key in self.con:\n",
        "      print (key + \" => \" + self.con[key])\n",
        "      \n",
        "      \n",
        "      \n",
        "    \n",
        "    "
      ],
      "execution_count": 0,
      "outputs": []
    },
    {
      "metadata": {
        "id": "2Z72pO2UcrNN",
        "colab_type": "code",
        "colab": {}
      },
      "cell_type": "code",
      "source": [
        "#Vocabulary lesson topics and dictionaries\n",
        "words_School_Work = {'tarea': 'homework', 'libro': 'book'}\n",
        "words_Greetings = {}\n",
        "words_Descriptions = {}\n",
        "words_Numbers = {}\n",
        "words_Family = {}\n",
        "words_Health = {}\n",
        "words_Class_Subjects = {}\n",
        "words_Hobbies = {}\n",
        "words_Routines = {}\n",
        "words_Navigation = {}\n",
        "words_Art = {}\n",
        "words_Science_Tech = {}\n",
        "words_Medical = {}\n",
        "words_Society = {}\n",
        "words_Government = {}\n",
        "words_Nature = {}\n",
        "words_Activities = {}"
      ],
      "execution_count": 0,
      "outputs": []
    },
    {
      "metadata": {
        "id": "JOxYSRK9caWv",
        "colab_type": "code",
        "colab": {
          "base_uri": "https://localhost:8080/",
          "height": 68
        },
        "outputId": "fe9d3215-c701-4d2d-b6f8-a4f9c2d1fafc"
      },
      "cell_type": "code",
      "source": [
        "school = vocabulary_Display('School Work', words_School_Work)\n",
        "school.display_Contents()\n",
        "school.print_Subject()\n",
        "greetings = vocabulary_Display('Greetings & Personal information'"
      ],
      "execution_count": 13,
      "outputs": [
        {
          "output_type": "stream",
          "text": [
            "tarea => homework\n",
            "libro => book\n",
            "This unit's topic is: school work\n"
          ],
          "name": "stdout"
        }
      ]
    }
  ]
}